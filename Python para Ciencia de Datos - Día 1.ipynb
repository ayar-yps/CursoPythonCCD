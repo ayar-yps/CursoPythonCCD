{
 "cells": [
  {
   "cell_type": "markdown",
   "metadata": {
    "collapsed": true
   },
   "source": [
    "# Curso: Python para Ciencia de Datos - Día 1"
   ]
  },
  {
   "cell_type": "markdown",
   "metadata": {},
   "source": [
    "__Por:__ _Ayar Yuman Paco Sanizo_\n",
    "\n",
    "__Club de Ciencia de Datos La Paz__"
   ]
  },
  {
   "cell_type": "markdown",
   "metadata": {},
   "source": [
    "## 1. Fundamentos de Programación"
   ]
  },
  {
   "cell_type": "markdown",
   "metadata": {},
   "source": [
    "En esta primera parte revisaremos algunos aspectos fundamentales de programación usando python. Veremos como usar python en programación estructurada, funcional y orientada a objetos."
   ]
  },
  {
   "cell_type": "markdown",
   "metadata": {},
   "source": [
    "### 1.1 Programación Estructurada"
   ]
  },
  {
   "cell_type": "code",
   "execution_count": 2,
   "metadata": {},
   "outputs": [
    {
     "name": "stdout",
     "output_type": "stream",
     "text": [
      "...Feliz aniversario!\n",
      "42\n",
      "1.3333333333333333\n"
     ]
    }
   ],
   "source": [
    "# Imprimir es super fácil\n",
    "print(\"...Feliz aniversario!\")\n",
    "print(2+2*20)\n",
    "print(8/6)"
   ]
  },
  {
   "cell_type": "code",
   "execution_count": 4,
   "metadata": {},
   "outputs": [
    {
     "name": "stdout",
     "output_type": "stream",
     "text": [
      "0 es par\n",
      "1 es impar\n",
      "2 es par\n",
      "3 es impar\n",
      "4 es par\n"
     ]
    }
   ],
   "source": [
    "# Uso del bucle for\n",
    "for i in range(5):\n",
    "    if i % 2 == 0:\n",
    "        print(str(i) + \" es par\")\n",
    "    else:\n",
    "        print(str(i) + \" es impar\")"
   ]
  },
  {
   "cell_type": "code",
   "execution_count": 3,
   "metadata": {},
   "outputs": [
    {
     "name": "stdout",
     "output_type": "stream",
     "text": [
      "Número pares: [0, 2, 4, 6, 8]\n",
      "Número impares: [1, 3, 5, 7, 9]\n"
     ]
    }
   ],
   "source": [
    "# Listas, un objeto importante\n",
    "pares = []\n",
    "impares = []\n",
    "\n",
    "# Uso del bucle while\n",
    "i = 0\n",
    "while True:\n",
    "    \n",
    "    if i % 2 == 0:\n",
    "        pares.append(i)\n",
    "    else:\n",
    "        impares.append(i)\n",
    "    i += 1\n",
    "    \n",
    "    if i == 10:\n",
    "        break\n",
    "\n",
    "print(\"Número pares: \" + str(pares))\n",
    "print(\"Número impares: \" + str(impares))"
   ]
  },
  {
   "cell_type": "markdown",
   "metadata": {},
   "source": [
    "__Ejercicio__\n",
    "\n",
    "Realiza un programa que calcule el promedio de numeros pares del siguiente vector e imprime el resultado"
   ]
  },
  {
   "cell_type": "code",
   "execution_count": 2,
   "metadata": {},
   "outputs": [],
   "source": [
    "vec1 = [4,5,6,2,45,12,32,12]\n"
   ]
  },
  {
   "cell_type": "code",
   "execution_count": 8,
   "metadata": {},
   "outputs": [
    {
     "data": {
      "text/plain": [
       "8"
      ]
     },
     "execution_count": 8,
     "metadata": {},
     "output_type": "execute_result"
    }
   ],
   "source": [
    "#Pista... podemos obtener la longitud de una lista usando:\n",
    "len(vec1)"
   ]
  },
  {
   "cell_type": "markdown",
   "metadata": {},
   "source": [
    "__Solución__"
   ]
  },
  {
   "cell_type": "code",
   "execution_count": null,
   "metadata": {},
   "outputs": [],
   "source": [
    "# Define las variables o listas auxiliares que necesites...\n",
    "\n",
    "\n",
    "# Usa un bucle for o while, y dentro una condición if para obtener pares...\n",
    "\n",
    "\n",
    "# Imprime tu resultado...\n"
   ]
  },
  {
   "cell_type": "markdown",
   "metadata": {},
   "source": [
    "### 1.2 Programación Funcional"
   ]
  },
  {
   "cell_type": "code",
   "execution_count": 9,
   "metadata": {},
   "outputs": [],
   "source": [
    "# Funciones\n",
    "def sep_par_impar(n, pares_impares):\n",
    "    \"\"\"\n",
    "    Esta función separa pares e impares\n",
    "    \"\"\"\n",
    "    # Diccionarios, otro objeto clave en python\n",
    "    resultado = {\"pares\": [], \"impares\": []}\n",
    "    \n",
    "    for j in range(n):\n",
    "        if j % 2 == 0:\n",
    "            resultado[\"pares\"].append(j)\n",
    "        else:\n",
    "            resultado[\"impares\"].append(j)\n",
    "    \n",
    "    if pares_impares == \"pares\" or pares_impares == \"impares\":\n",
    "        return resultado[pares_impares]\n",
    "    else:\n",
    "        return \"Error, elija si desea ver pares o impares\""
   ]
  },
  {
   "cell_type": "code",
   "execution_count": 11,
   "metadata": {},
   "outputs": [
    {
     "name": "stdout",
     "output_type": "stream",
     "text": [
      "Pares:\n",
      "[0, 2, 4, 6, 8, 10, 12, 14, 16, 18]\n",
      "\n"
     ]
    }
   ],
   "source": [
    "print(\"Pares:\\n\"\n",
    "      + str(sep_par_impar(20, \"pares\")) + \"\\n\")\n"
   ]
  },
  {
   "cell_type": "code",
   "execution_count": 12,
   "metadata": {},
   "outputs": [
    {
     "name": "stdout",
     "output_type": "stream",
     "text": [
      "Impares:\n",
      "[1, 3, 5, 7, 9, 11, 13, 15, 17, 19]\n",
      "\n"
     ]
    }
   ],
   "source": [
    "print(\"Impares:\\n\"\n",
    "      + str(sep_par_impar(20, \"impares\")) + \"\\n\")\n"
   ]
  },
  {
   "cell_type": "code",
   "execution_count": 13,
   "metadata": {},
   "outputs": [
    {
     "name": "stdout",
     "output_type": "stream",
     "text": [
      "Error, elija si desea ver pares o impares\n"
     ]
    }
   ],
   "source": [
    "print(sep_par_impar(20, \"par\"))"
   ]
  },
  {
   "cell_type": "markdown",
   "metadata": {},
   "source": [
    "__Ejercicio__\n",
    "\n",
    "Define una función denominada \"cal_prom\" que calcule el promedio de números pares de cualquier vector. Luego pruébala con distintos vectores imprimendo los resultados."
   ]
  },
  {
   "cell_type": "code",
   "execution_count": null,
   "metadata": {},
   "outputs": [],
   "source": [
    "# Define tu función... pregúntate... ¿Qué debería ingresar a la función? ¿Qué debería salir?\n",
    "\n",
    "\n",
    "\n",
    "\n"
   ]
  },
  {
   "cell_type": "code",
   "execution_count": null,
   "metadata": {},
   "outputs": [],
   "source": [
    "# Prueba 1\n",
    "vec1 = [4,5,6,2,45,12,32,12]\n"
   ]
  },
  {
   "cell_type": "code",
   "execution_count": null,
   "metadata": {},
   "outputs": [],
   "source": [
    "# Prueba 2\n",
    "vec2 = [20,1,3,89,41,22,62,11,24,81,59,32]\n"
   ]
  },
  {
   "cell_type": "markdown",
   "metadata": {},
   "source": [
    "### 1.3 Programación Orientada a Objetos"
   ]
  },
  {
   "cell_type": "code",
   "execution_count": 26,
   "metadata": {},
   "outputs": [],
   "source": [
    "# Clases (de objetos)...\n",
    "class Cliente:\n",
    "    \n",
    "    def __init__(self, id_c, dinero_disp):\n",
    "        self.id_c = id_c\n",
    "        self.dinero_disp = dinero_disp\n",
    "    \n",
    "    def compra(self, cant_compra, tienda):\n",
    "        \"\"\"\n",
    "        Cliente compra producto de tienda\n",
    "        \n",
    "        :type tienda: Tienda\n",
    "        \"\"\"\n",
    "        gasto = cant_compra*tienda.precio_prod\n",
    "        \n",
    "        if cant_compra <= tienda.cant_producto \\\n",
    "                and gasto <= self.dinero_disp:\n",
    "            \n",
    "            self.dinero_disp = self.dinero_disp - gasto\n",
    "            tienda.cant_producto -= cant_compra\n",
    "            tienda.ingresos += gasto\n",
    "            \n",
    "            print(\"Cliente: \" + str(self.id_c)\n",
    "                  + \"\\nTipo: Normal\"\n",
    "                  + \"\\nCantidad comprada: \" + str(cant_compra)\n",
    "                  + \"\\nGasto (Bs): \" + str(gasto)\n",
    "                  + \"\\nDinero disponible (Bs): \" + str(self.dinero_disp)\n",
    "                  + \"\\n\")\n",
    "        else:\n",
    "            print(\"Cliente: \" + str(self.id_c)\n",
    "                  + \"\\nNo logró comprar nada\\n\")"
   ]
  },
  {
   "cell_type": "code",
   "execution_count": 27,
   "metadata": {},
   "outputs": [],
   "source": [
    "# Herencia...\n",
    "class ClientePremium(Cliente):\n",
    "    \n",
    "    def __init__(self, id, dinero_disp, descuento):\n",
    "        super(ClientePremium, self).__init__(id, dinero_disp)\n",
    "        self.descuento = descuento\n",
    "    \n",
    "    def compra(self, cant_compra, tienda):\n",
    "        \"\"\"\n",
    "        Cliente compra producto de tienda\n",
    "        \n",
    "        :type tienda: Tienda\n",
    "        \"\"\"\n",
    "        gasto = cant_compra*tienda.precio_prod\n",
    "        desc = round(gasto*self.descuento, 0)\n",
    "        gasto_ef = gasto - desc\n",
    "        \n",
    "        if cant_compra <= tienda.cant_producto \\\n",
    "                and gasto_ef <= self.dinero_disp:\n",
    "            \n",
    "            self.dinero_disp -= gasto_ef\n",
    "            tienda.cant_producto -= cant_compra\n",
    "            tienda.ingresos += gasto_ef\n",
    "            \n",
    "            print(\"Cliente: \" + str(self.id_c)\n",
    "                  + \"\\nTipo: Premium\"\n",
    "                  + \"\\nCantidad comprada: \" + str(cant_compra)\n",
    "                  + \"\\nGasto sin dscto. (Bs): \" + str(gasto)\n",
    "                  + \"\\nDescuento (Bs): \" + str(desc)\n",
    "                  + \"\\nGasto con dscto. (Bs): \" + str(gasto_ef)\n",
    "                  + \"\\nDinero disponible (Bs): \" + str(self.dinero_disp)\n",
    "                  + \"\\n\")\n",
    "        else:\n",
    "            print(\"Cliente: \" + str(self.id_c)\n",
    "                  + \"\\nNo logró comprar nada\\n\")"
   ]
  },
  {
   "cell_type": "code",
   "execution_count": 28,
   "metadata": {},
   "outputs": [],
   "source": [
    "# Importar libreria de gráficos y darle un alias\n",
    "import matplotlib.pyplot as plt\n",
    "\n",
    "# Esto no es tan necesario pero permite mostrar los gráficos tal como si usaramos plt.show()\n",
    "%matplotlib inline\n",
    "\n",
    "class Tienda:    \n",
    "    \n",
    "    def __init__(self, nombre, cant_producto, precio_prod, tiempo_atencion):\n",
    "        self.nombre = nombre\n",
    "        self.cant_producto = cant_producto\n",
    "        self.precio_prod = precio_prod\n",
    "        self.tiempo_atencion = tiempo_atencion\n",
    "        self.ingresos = 0\n",
    "        self.hist_hora_visitas = []\n",
    "        self.hist_ingresos = []\n",
    "        self.hist_inventario = []\n",
    "    \n",
    "    def ver_estado(self):\n",
    "        print(\"Tienda: \" + self.nombre\n",
    "              + \"\\nPrecio unitario (Bs): \" + str(self.precio_prod)\n",
    "              + \"\\nCant. Producto: \" + str(self.cant_producto)\n",
    "              + \"\\nIngresos (Bs): \" + str(self.ingresos)\n",
    "              + \"\\n\")\n",
    "    \n",
    "    def ver_ingresos(self):\n",
    "        plt.plot(self.hist_hora_visitas,self.hist_ingresos,\"-\")\n",
    "        plt.ylabel(\"Ingresos (Bs)\")\n",
    "        plt.title(\"Evolución de ingresos en el día\")\n",
    "        plt.show()\n",
    "        \n",
    "    def ver_inventario(self):\n",
    "        plt.plot(self.hist_hora_visitas,self.hist_inventario,\"-\")\n",
    "        plt.ylabel(\"Inventario (Unid.)\")\n",
    "        plt.title(\"Evolución de inventario en el día\")\n",
    "        plt.show()"
   ]
  },
  {
   "cell_type": "code",
   "execution_count": 29,
   "metadata": {},
   "outputs": [],
   "source": [
    "# Definición de instancias...\n",
    "tienda_a = Tienda(\"Don Juan\", 10, 2, 8*60)\n",
    "pedro = Cliente(12, 10)\n",
    "juan = ClientePremium(23, 23, 0.1)"
   ]
  },
  {
   "cell_type": "code",
   "execution_count": 30,
   "metadata": {},
   "outputs": [
    {
     "name": "stdout",
     "output_type": "stream",
     "text": [
      "Tienda: Don Juan\n",
      "Precio unitario (Bs): 2\n",
      "Cant. Producto: 10\n",
      "Ingresos (Bs): 0\n",
      "\n"
     ]
    }
   ],
   "source": [
    "tienda_a.ver_estado()"
   ]
  },
  {
   "cell_type": "code",
   "execution_count": 31,
   "metadata": {},
   "outputs": [
    {
     "name": "stdout",
     "output_type": "stream",
     "text": [
      "Cliente: 12\n",
      "Tipo: Normal\n",
      "Cantidad comprada: 2\n",
      "Gasto (Bs): 4\n",
      "Dinero disponible (Bs): 6\n",
      "\n",
      "Tienda: Don Juan\n",
      "Precio unitario (Bs): 2\n",
      "Cant. Producto: 8\n",
      "Ingresos (Bs): 4\n",
      "\n",
      "Cliente: 23\n",
      "Tipo: Premium\n",
      "Cantidad comprada: 8\n",
      "Gasto sin dscto. (Bs): 16\n",
      "Descuento (Bs): 2.0\n",
      "Gasto con dscto. (Bs): 14.0\n",
      "Dinero disponible (Bs): 9.0\n",
      "\n",
      "Tienda: Don Juan\n",
      "Precio unitario (Bs): 2\n",
      "Cant. Producto: 0\n",
      "Ingresos (Bs): 18.0\n",
      "\n",
      "Cliente: 12\n",
      "No logró comprar nada\n",
      "\n",
      "Tienda: Don Juan\n",
      "Precio unitario (Bs): 2\n",
      "Cant. Producto: 0\n",
      "Ingresos (Bs): 18.0\n",
      "\n",
      "Cliente: 23\n",
      "No logró comprar nada\n",
      "\n"
     ]
    }
   ],
   "source": [
    "pedro.compra(2, tienda_a)\n",
    "tienda_a.ver_estado()\n",
    "juan.compra(8, tienda_a)\n",
    "tienda_a.ver_estado()\n",
    "pedro.compra(2, tienda_a)\n",
    "tienda_a.ver_estado()\n",
    "juan.compra(8,tienda_a)"
   ]
  },
  {
   "cell_type": "code",
   "execution_count": 34,
   "metadata": {},
   "outputs": [],
   "source": [
    "# Importar libreria random\n",
    "import random\n",
    "\n",
    "class Entorno:\n",
    "\n",
    "    def __init__(self, tienda):\n",
    "        self.tienda = tienda\n",
    "        \n",
    "        self.clientes = []\n",
    "    \n",
    "    @staticmethod\n",
    "    def gen_tell():\n",
    "        tell = random.triangular(5,30,10)\n",
    "        return round(tell, 0)\n",
    "    \n",
    "    def simular(self):\n",
    "        tiempo = 0\n",
    "        id_c = 0\n",
    "        while tiempo <= self.tienda.tiempo_atencion:\n",
    "            \n",
    "            tiempo += self.gen_tell()\n",
    "            id_c += 1 \n",
    "            if random.random() <= 0.5:\n",
    "                dinero_disp = round(random.uniform(10,30),0)\n",
    "                self.clientes.append(Cliente(id_c,\n",
    "                                             dinero_disp))\n",
    "            else:\n",
    "                dinero_disp = round(random.uniform(20,40),0)\n",
    "                desc = round(random.uniform(0.05,0.20),2)\n",
    "                self.clientes.append(ClientePremium(id_c,\n",
    "                                                    dinero_disp,\n",
    "                                                    desc))\n",
    "            print(\"Hora: \" + str(tiempo))\n",
    "            cant_compra = round(random.triangular(5,20,10),0)\n",
    "            self.clientes[-1].compra(cant_compra, \n",
    "                                     self.tienda)\n",
    "            self.tienda.ver_estado()\n",
    "            \n",
    "            # Guardar\n",
    "            self.tienda.hist_hora_visitas.append(tiempo)\n",
    "            self.tienda.hist_ingresos.append(self.tienda.ingresos)\n",
    "            self.tienda.hist_inventario.append(self.tienda.cant_producto)"
   ]
  },
  {
   "cell_type": "code",
   "execution_count": 35,
   "metadata": {},
   "outputs": [
    {
     "name": "stdout",
     "output_type": "stream",
     "text": [
      "Hora: 24.0\n",
      "Cliente: 1\n",
      "No logró comprar nada\n",
      "\n",
      "Tienda: Dña. Juanita\n",
      "Precio unitario (Bs): 2\n",
      "Cant. Producto: 100\n",
      "Ingresos (Bs): 0\n",
      "\n",
      "Hora: 35.0\n",
      "Cliente: 2\n",
      "Tipo: Premium\n",
      "Cantidad comprada: 15.0\n",
      "Gasto sin dscto. (Bs): 30.0\n",
      "Descuento (Bs): 4.0\n",
      "Gasto con dscto. (Bs): 26.0\n",
      "Dinero disponible (Bs): 5.0\n",
      "\n",
      "Tienda: Dña. Juanita\n",
      "Precio unitario (Bs): 2\n",
      "Cant. Producto: 85.0\n",
      "Ingresos (Bs): 26.0\n",
      "\n",
      "Hora: 46.0\n",
      "Cliente: 3\n",
      "Tipo: Premium\n",
      "Cantidad comprada: 14.0\n",
      "Gasto sin dscto. (Bs): 28.0\n",
      "Descuento (Bs): 4.0\n",
      "Gasto con dscto. (Bs): 24.0\n",
      "Dinero disponible (Bs): 12.0\n",
      "\n",
      "Tienda: Dña. Juanita\n",
      "Precio unitario (Bs): 2\n",
      "Cant. Producto: 71.0\n",
      "Ingresos (Bs): 50.0\n",
      "\n",
      "Hora: 59.0\n",
      "Cliente: 4\n",
      "Tipo: Premium\n",
      "Cantidad comprada: 6.0\n",
      "Gasto sin dscto. (Bs): 12.0\n",
      "Descuento (Bs): 1.0\n",
      "Gasto con dscto. (Bs): 11.0\n",
      "Dinero disponible (Bs): 26.0\n",
      "\n",
      "Tienda: Dña. Juanita\n",
      "Precio unitario (Bs): 2\n",
      "Cant. Producto: 65.0\n",
      "Ingresos (Bs): 61.0\n",
      "\n",
      "Hora: 78.0\n",
      "Cliente: 5\n",
      "Tipo: Premium\n",
      "Cantidad comprada: 7.0\n",
      "Gasto sin dscto. (Bs): 14.0\n",
      "Descuento (Bs): 1.0\n",
      "Gasto con dscto. (Bs): 13.0\n",
      "Dinero disponible (Bs): 25.0\n",
      "\n",
      "Tienda: Dña. Juanita\n",
      "Precio unitario (Bs): 2\n",
      "Cant. Producto: 58.0\n",
      "Ingresos (Bs): 74.0\n",
      "\n",
      "Hora: 92.0\n",
      "Cliente: 6\n",
      "Tipo: Premium\n",
      "Cantidad comprada: 7.0\n",
      "Gasto sin dscto. (Bs): 14.0\n",
      "Descuento (Bs): 2.0\n",
      "Gasto con dscto. (Bs): 12.0\n",
      "Dinero disponible (Bs): 11.0\n",
      "\n",
      "Tienda: Dña. Juanita\n",
      "Precio unitario (Bs): 2\n",
      "Cant. Producto: 51.0\n",
      "Ingresos (Bs): 86.0\n",
      "\n",
      "Hora: 112.0\n",
      "Cliente: 7\n",
      "Tipo: Premium\n",
      "Cantidad comprada: 10.0\n",
      "Gasto sin dscto. (Bs): 20.0\n",
      "Descuento (Bs): 3.0\n",
      "Gasto con dscto. (Bs): 17.0\n",
      "Dinero disponible (Bs): 21.0\n",
      "\n",
      "Tienda: Dña. Juanita\n",
      "Precio unitario (Bs): 2\n",
      "Cant. Producto: 41.0\n",
      "Ingresos (Bs): 103.0\n",
      "\n",
      "Hora: 127.0\n",
      "Cliente: 8\n",
      "No logró comprar nada\n",
      "\n",
      "Tienda: Dña. Juanita\n",
      "Precio unitario (Bs): 2\n",
      "Cant. Producto: 41.0\n",
      "Ingresos (Bs): 103.0\n",
      "\n",
      "Hora: 142.0\n",
      "Cliente: 9\n",
      "No logró comprar nada\n",
      "\n",
      "Tienda: Dña. Juanita\n",
      "Precio unitario (Bs): 2\n",
      "Cant. Producto: 41.0\n",
      "Ingresos (Bs): 103.0\n",
      "\n",
      "Hora: 164.0\n",
      "Cliente: 10\n",
      "Tipo: Premium\n",
      "Cantidad comprada: 13.0\n",
      "Gasto sin dscto. (Bs): 26.0\n",
      "Descuento (Bs): 4.0\n",
      "Gasto con dscto. (Bs): 22.0\n",
      "Dinero disponible (Bs): 15.0\n",
      "\n",
      "Tienda: Dña. Juanita\n",
      "Precio unitario (Bs): 2\n",
      "Cant. Producto: 28.0\n",
      "Ingresos (Bs): 125.0\n",
      "\n",
      "Hora: 175.0\n",
      "Cliente: 11\n",
      "No logró comprar nada\n",
      "\n",
      "Tienda: Dña. Juanita\n",
      "Precio unitario (Bs): 2\n",
      "Cant. Producto: 28.0\n",
      "Ingresos (Bs): 125.0\n",
      "\n",
      "Hora: 185.0\n",
      "Cliente: 12\n",
      "Tipo: Premium\n",
      "Cantidad comprada: 10.0\n",
      "Gasto sin dscto. (Bs): 20.0\n",
      "Descuento (Bs): 2.0\n",
      "Gasto con dscto. (Bs): 18.0\n",
      "Dinero disponible (Bs): 15.0\n",
      "\n",
      "Tienda: Dña. Juanita\n",
      "Precio unitario (Bs): 2\n",
      "Cant. Producto: 18.0\n",
      "Ingresos (Bs): 143.0\n",
      "\n",
      "Hora: 199.0\n",
      "Cliente: 13\n",
      "No logró comprar nada\n",
      "\n",
      "Tienda: Dña. Juanita\n",
      "Precio unitario (Bs): 2\n",
      "Cant. Producto: 18.0\n",
      "Ingresos (Bs): 143.0\n",
      "\n",
      "Hora: 221.0\n",
      "Cliente: 14\n",
      "Tipo: Premium\n",
      "Cantidad comprada: 18.0\n",
      "Gasto sin dscto. (Bs): 36.0\n",
      "Descuento (Bs): 3.0\n",
      "Gasto con dscto. (Bs): 33.0\n",
      "Dinero disponible (Bs): 4.0\n",
      "\n",
      "Tienda: Dña. Juanita\n",
      "Precio unitario (Bs): 2\n",
      "Cant. Producto: 0.0\n",
      "Ingresos (Bs): 176.0\n",
      "\n",
      "Hora: 239.0\n",
      "Cliente: 15\n",
      "No logró comprar nada\n",
      "\n",
      "Tienda: Dña. Juanita\n",
      "Precio unitario (Bs): 2\n",
      "Cant. Producto: 0.0\n",
      "Ingresos (Bs): 176.0\n",
      "\n",
      "Hora: 253.0\n",
      "Cliente: 16\n",
      "No logró comprar nada\n",
      "\n",
      "Tienda: Dña. Juanita\n",
      "Precio unitario (Bs): 2\n",
      "Cant. Producto: 0.0\n",
      "Ingresos (Bs): 176.0\n",
      "\n",
      "Hora: 272.0\n",
      "Cliente: 17\n",
      "No logró comprar nada\n",
      "\n",
      "Tienda: Dña. Juanita\n",
      "Precio unitario (Bs): 2\n",
      "Cant. Producto: 0.0\n",
      "Ingresos (Bs): 176.0\n",
      "\n",
      "Hora: 284.0\n",
      "Cliente: 18\n",
      "No logró comprar nada\n",
      "\n",
      "Tienda: Dña. Juanita\n",
      "Precio unitario (Bs): 2\n",
      "Cant. Producto: 0.0\n",
      "Ingresos (Bs): 176.0\n",
      "\n",
      "Hora: 302.0\n",
      "Cliente: 19\n",
      "No logró comprar nada\n",
      "\n",
      "Tienda: Dña. Juanita\n",
      "Precio unitario (Bs): 2\n",
      "Cant. Producto: 0.0\n",
      "Ingresos (Bs): 176.0\n",
      "\n",
      "Hora: 318.0\n",
      "Cliente: 20\n",
      "No logró comprar nada\n",
      "\n",
      "Tienda: Dña. Juanita\n",
      "Precio unitario (Bs): 2\n",
      "Cant. Producto: 0.0\n",
      "Ingresos (Bs): 176.0\n",
      "\n",
      "Hora: 344.0\n",
      "Cliente: 21\n",
      "No logró comprar nada\n",
      "\n",
      "Tienda: Dña. Juanita\n",
      "Precio unitario (Bs): 2\n",
      "Cant. Producto: 0.0\n",
      "Ingresos (Bs): 176.0\n",
      "\n",
      "Hora: 363.0\n",
      "Cliente: 22\n",
      "No logró comprar nada\n",
      "\n",
      "Tienda: Dña. Juanita\n",
      "Precio unitario (Bs): 2\n",
      "Cant. Producto: 0.0\n",
      "Ingresos (Bs): 176.0\n",
      "\n",
      "Hora: 381.0\n",
      "Cliente: 23\n",
      "No logró comprar nada\n",
      "\n",
      "Tienda: Dña. Juanita\n",
      "Precio unitario (Bs): 2\n",
      "Cant. Producto: 0.0\n",
      "Ingresos (Bs): 176.0\n",
      "\n",
      "Hora: 396.0\n",
      "Cliente: 24\n",
      "No logró comprar nada\n",
      "\n",
      "Tienda: Dña. Juanita\n",
      "Precio unitario (Bs): 2\n",
      "Cant. Producto: 0.0\n",
      "Ingresos (Bs): 176.0\n",
      "\n",
      "Hora: 411.0\n",
      "Cliente: 25\n",
      "No logró comprar nada\n",
      "\n",
      "Tienda: Dña. Juanita\n",
      "Precio unitario (Bs): 2\n",
      "Cant. Producto: 0.0\n",
      "Ingresos (Bs): 176.0\n",
      "\n",
      "Hora: 427.0\n",
      "Cliente: 26\n",
      "No logró comprar nada\n",
      "\n",
      "Tienda: Dña. Juanita\n",
      "Precio unitario (Bs): 2\n",
      "Cant. Producto: 0.0\n",
      "Ingresos (Bs): 176.0\n",
      "\n",
      "Hora: 447.0\n",
      "Cliente: 27\n",
      "No logró comprar nada\n",
      "\n",
      "Tienda: Dña. Juanita\n",
      "Precio unitario (Bs): 2\n",
      "Cant. Producto: 0.0\n",
      "Ingresos (Bs): 176.0\n",
      "\n",
      "Hora: 459.0\n",
      "Cliente: 28\n",
      "No logró comprar nada\n",
      "\n",
      "Tienda: Dña. Juanita\n",
      "Precio unitario (Bs): 2\n",
      "Cant. Producto: 0.0\n",
      "Ingresos (Bs): 176.0\n",
      "\n",
      "Hora: 475.0\n",
      "Cliente: 29\n",
      "No logró comprar nada\n",
      "\n",
      "Tienda: Dña. Juanita\n",
      "Precio unitario (Bs): 2\n",
      "Cant. Producto: 0.0\n",
      "Ingresos (Bs): 176.0\n",
      "\n",
      "Hora: 495.0\n",
      "Cliente: 30\n",
      "No logró comprar nada\n",
      "\n",
      "Tienda: Dña. Juanita\n",
      "Precio unitario (Bs): 2\n",
      "Cant. Producto: 0.0\n",
      "Ingresos (Bs): 176.0\n",
      "\n"
     ]
    }
   ],
   "source": [
    "tienda_juanita = Tienda(\"Dña. Juanita\", 100, 2, 8*60)\n",
    "entorno_sim_tj = Entorno(tienda_juanita)\n",
    "entorno_sim_tj.simular()"
   ]
  },
  {
   "cell_type": "code",
   "execution_count": 36,
   "metadata": {
    "scrolled": false
   },
   "outputs": [
    {
     "data": {
      "image/png": "[encoded data removed]",
      "text/plain": [
       "<matplotlib.figure.Figure at 0x1fdb19d0cc0>"
      ]
     },
     "metadata": {},
     "output_type": "display_data"
    },
    {
     "data": {
      "image/png": "[encoded data removed]",
      "text/plain": [
       "<matplotlib.figure.Figure at 0x1fdb19d01d0>"
      ]
     },
     "metadata": {},
     "output_type": "display_data"
    }
   ],
   "source": [
    "tienda_juanita.ver_ingresos()\n",
    "tienda_juanita.ver_inventario()"
   ]
  },
  {
   "cell_type": "markdown",
   "metadata": {},
   "source": [
    "__Ejercicio__\n",
    "\n",
    "Mejoremos nuestra simulación. ¿Qué tal si creamos una tienda inteligente? Definamos una tienda hija que pueda comprar más producto cuando su inventario este por debajo de cierto valor. Por otra parte, demos a esta tienda la habilidad de calcular y mostrar su ingreso e inventario promedio en el periodo de simulación."
   ]
  },
  {
   "cell_type": "markdown",
   "metadata": {},
   "source": [
    "__Solución__"
   ]
  },
  {
   "cell_type": "code",
   "execution_count": null,
   "metadata": {},
   "outputs": [],
   "source": [
    "# Crea una subclase de TiendaSmart...\n",
    "\n",
    "\n",
    "# Define valores auxiliares que puedas necesitar, puede que necesites un backup de producto \n",
    "\n",
    "\n",
    "# Define un método denominado abastecer para que la tienda aumente la cantidad de inventario\n",
    "# cuando esta cantidad sea menor al backup. Por ahora imagina que la tienda puede abastecerse\n",
    "# de forma gratuita.\n",
    "\n",
    "\n",
    "# Define un método que te permita calular y mostrar el ingreso promedio\n",
    "\n",
    "\n",
    "# Define un método que te permite calcular y mostrar el inventario promedio\n"
   ]
  },
  {
   "cell_type": "code",
   "execution_count": null,
   "metadata": {},
   "outputs": [],
   "source": [
    "# Instanciemos una tienda Smart\n",
    "tienda_smart = TiendaSmart(\"PyStore\", 100, 2, 2*8*60)\n",
    "\n",
    "# Instanciemos un entorno para la tienda\n",
    "entorno_sim_ts = Entorno(tienda_smart)\n",
    "\n",
    "# ¡Simulemos!\n",
    "entorno_sim_ts.simular()"
   ]
  },
  {
   "cell_type": "code",
   "execution_count": null,
   "metadata": {},
   "outputs": [],
   "source": [
    "# Veamos la evolución del ingreso y el inventario de la tienda...\n",
    "\n"
   ]
  },
  {
   "cell_type": "code",
   "execution_count": null,
   "metadata": {},
   "outputs": [],
   "source": [
    "# Mostremos el ingreso promedio...\n"
   ]
  },
  {
   "cell_type": "code",
   "execution_count": null,
   "metadata": {},
   "outputs": [],
   "source": [
    "# Mostremos el inventario promedio...\n"
   ]
  }
 ],
 "metadata": {
  "kernelspec": {
   "display_name": "Python 3",
   "language": "python",
   "name": "python3"
  },
  "language_info": {
   "codemirror_mode": {
    "name": "ipython",
    "version": 3
   },
   "file_extension": ".py",
   "mimetype": "text/x-python",
   "name": "python",
   "nbconvert_exporter": "python",
   "pygments_lexer": "ipython3",
   "version": "3.6.4"
  },
  "toc": {
   "base_numbering": 1,
   "nav_menu": {},
   "number_sections": false,
   "sideBar": true,
   "skip_h1_title": true,
   "title_cell": "Table of Contents",
   "title_sidebar": "Contents",
   "toc_cell": false,
   "toc_position": {
    "height": "calc(100% - 180px)",
    "left": "10px",
    "top": "150px",
    "width": "273px"
   },
   "toc_section_display": true,
   "toc_window_display": true
  }
 },
 "nbformat": 4,
 "nbformat_minor": 1
}

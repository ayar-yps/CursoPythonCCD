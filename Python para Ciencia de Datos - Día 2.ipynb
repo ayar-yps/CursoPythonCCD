{
 "cells": [
  {
   "cell_type": "markdown",
   "metadata": {},
   "source": [
    "# Curso: Python para Ciencia de Datos - Día 2"
   ]
  },
  {
   "cell_type": "markdown",
   "metadata": {},
   "source": [
    "__Por:__ _Ayar Yuman Paco Sanizo_\n",
    "\n",
    "__Club de Ciencia de Datos La Paz__"
   ]
  },
  {
   "cell_type": "markdown",
   "metadata": {},
   "source": [
    "## 2. Operaciones de Álgebra Lineal"
   ]
  },
  {
   "cell_type": "markdown",
   "metadata": {},
   "source": [
    "En esta sección usaremos python para realizar algunas operaciones fundamentales del algebra lineal. Es importante notar que estas operaciones son muy importantes para el desarrollo de distintos modelos estadísticos."
   ]
  },
  {
   "cell_type": "code",
   "execution_count": 9,
   "metadata": {},
   "outputs": [],
   "source": [
    "# Primero importemos numpy y démosle un alias\n",
    "import numpy as np"
   ]
  },
  {
   "cell_type": "markdown",
   "metadata": {},
   "source": [
    "### 2.1 Vectores y Matrices"
   ]
  },
  {
   "cell_type": "code",
   "execution_count": 2,
   "metadata": {},
   "outputs": [
    {
     "name": "stdout",
     "output_type": "stream",
     "text": [
      "a = \n",
      "[1 2 3]\n",
      "Dimensión: (3,)\n",
      "Tipo:<class 'numpy.ndarray'>\n",
      "\n",
      "b = \n",
      "[[2]\n",
      " [4]\n",
      " [3]]\n",
      "Dimensión: (3, 1)\n",
      "Tipo:<class 'numpy.ndarray'>\n",
      "\n"
     ]
    }
   ],
   "source": [
    "# Vectores\n",
    "a = np.array([1,2,3])\n",
    "print(\"a = \\n\"+str(a))\n",
    "print(\"Dimensión: \" + str(a.shape) \n",
    "      + \"\\nTipo:\" + str(type(a))\n",
    "      + \"\\n\")\n",
    "\n",
    "b = np.array([[2],[4],[3]])\n",
    "print(\"b = \\n\"+str(b))\n",
    "print(\"Dimensión: \" + str(b.shape)\n",
    "      + \"\\nTipo:\" + str(type(a))\n",
    "      + \"\\n\")"
   ]
  },
  {
   "cell_type": "code",
   "execution_count": 7,
   "metadata": {},
   "outputs": [
    {
     "name": "stdout",
     "output_type": "stream",
     "text": [
      "a1 = \n",
      "[1 2 3]\n",
      "Dimensión: (3,)\n",
      "Tipo:<class 'numpy.ndarray'>\n",
      "\n"
     ]
    }
   ],
   "source": [
    "a1 = np.array([1,2,3])\n",
    "print(\"a1 = \\n\"+str(a1))\n",
    "print(\"Dimensión: \" + str(a1.shape) \n",
    "      + \"\\nTipo:\" + str(type(a1))\n",
    "      + \"\\n\")"
   ]
  },
  {
   "cell_type": "code",
   "execution_count": 8,
   "metadata": {},
   "outputs": [
    {
     "name": "stdout",
     "output_type": "stream",
     "text": [
      "a1 = \n",
      "[[1]\n",
      " [2]\n",
      " [3]]\n",
      "Dimensión: (3, 1)\n",
      "Tipo:<class 'numpy.ndarray'>\n",
      "\n"
     ]
    }
   ],
   "source": [
    "a1.shape = (3,1)\n",
    "a1.shape\n",
    "print(\"a1 = \\n\"+str(a1))\n",
    "print(\"Dimensión: \" + str(a1.shape) \n",
    "      + \"\\nTipo:\" + str(type(a1))\n",
    "      + \"\\n\")"
   ]
  },
  {
   "cell_type": "code",
   "execution_count": 10,
   "metadata": {
    "scrolled": true
   },
   "outputs": [
    {
     "name": "stdout",
     "output_type": "stream",
     "text": [
      "A = \n",
      "[[1 2 3]\n",
      " [4 5 6]\n",
      " [1 4 3]]\n",
      "Dimensión: (3, 3)\n",
      "Tipo:<class 'numpy.ndarray'>\n",
      "\n",
      "B = \n",
      "[[5 4 2]\n",
      " [6 7 2]\n",
      " [2 1 3]]\n",
      "Dimensión: (3, 3)\n",
      "Tipo:<class 'numpy.ndarray'>\n",
      "\n"
     ]
    }
   ],
   "source": [
    "# Matrices\n",
    "A = np.array([[1, 2, 3], [4, 5, 6], [1, 4, 3]])\n",
    "print(\"A = \\n\"+str(A))\n",
    "print(\"Dimensión: \" + str(A.shape) \n",
    "      + \"\\nTipo:\" + str(type(A))\n",
    "      + \"\\n\")\n",
    "\n",
    "B = np.array([[5, 4, 2], [6, 7, 2], [2, 1, 3]])\n",
    "print(\"B = \\n\"+str(B))\n",
    "print(\"Dimensión: \" + str(B.shape) \n",
    "      + \"\\nTipo:\" + str(type(B))\n",
    "      + \"\\n\")"
   ]
  },
  {
   "cell_type": "markdown",
   "metadata": {},
   "source": [
    "### 2.2 Operaciones comunes"
   ]
  },
  {
   "cell_type": "code",
   "execution_count": 12,
   "metadata": {},
   "outputs": [
    {
     "data": {
      "text/plain": [
       "array([[ 6,  6,  5],\n",
       "       [10, 12,  8],\n",
       "       [ 3,  5,  6]])"
      ]
     },
     "execution_count": 12,
     "metadata": {},
     "output_type": "execute_result"
    }
   ],
   "source": [
    "# Suma de matrices\n",
    "A+B"
   ]
  },
  {
   "cell_type": "code",
   "execution_count": 13,
   "metadata": {},
   "outputs": [
    {
     "data": {
      "text/plain": [
       "array([[ 5,  8,  6],\n",
       "       [24, 35, 12],\n",
       "       [ 2,  4,  9]])"
      ]
     },
     "execution_count": 13,
     "metadata": {},
     "output_type": "execute_result"
    }
   ],
   "source": [
    "# Producto elemento a elemento entre matrices\n",
    "A*B"
   ]
  },
  {
   "cell_type": "code",
   "execution_count": 14,
   "metadata": {},
   "outputs": [
    {
     "data": {
      "text/plain": [
       "array([[0.2 , 0.5 , 1.5 ],\n",
       "       [0.67, 0.71, 3.  ],\n",
       "       [0.5 , 4.  , 1.  ]])"
      ]
     },
     "execution_count": 14,
     "metadata": {},
     "output_type": "execute_result"
    }
   ],
   "source": [
    "# División elemento a elemento entre matrices\n",
    "(A/B).round(2)"
   ]
  },
  {
   "cell_type": "code",
   "execution_count": 15,
   "metadata": {},
   "outputs": [
    {
     "data": {
      "text/plain": [
       "array([[1, 4, 1],\n",
       "       [2, 5, 4],\n",
       "       [3, 6, 3]])"
      ]
     },
     "execution_count": 15,
     "metadata": {},
     "output_type": "execute_result"
    }
   ],
   "source": [
    "# Transpuesta\n",
    "A.T"
   ]
  },
  {
   "cell_type": "code",
   "execution_count": 16,
   "metadata": {},
   "outputs": [
    {
     "data": {
      "text/plain": [
       "array([[2, 4, 3]])"
      ]
     },
     "execution_count": 16,
     "metadata": {},
     "output_type": "execute_result"
    }
   ],
   "source": [
    "b.T"
   ]
  },
  {
   "cell_type": "code",
   "execution_count": 17,
   "metadata": {},
   "outputs": [
    {
     "data": {
      "text/plain": [
       "array([[23, 21, 15],\n",
       "       [62, 57, 36],\n",
       "       [35, 35, 19]])"
      ]
     },
     "execution_count": 17,
     "metadata": {},
     "output_type": "execute_result"
    }
   ],
   "source": [
    "# Producto carteciano\n",
    "np.dot(A,B)"
   ]
  },
  {
   "cell_type": "code",
   "execution_count": 18,
   "metadata": {},
   "outputs": [
    {
     "data": {
      "text/plain": [
       "array([[23, 21, 15],\n",
       "       [62, 57, 36],\n",
       "       [35, 35, 19]])"
      ]
     },
     "execution_count": 18,
     "metadata": {},
     "output_type": "execute_result"
    }
   ],
   "source": [
    "# O también...\n",
    "A.dot(B)"
   ]
  },
  {
   "cell_type": "code",
   "execution_count": 19,
   "metadata": {},
   "outputs": [
    {
     "data": {
      "text/plain": [
       "array([23, 21, 15])"
      ]
     },
     "execution_count": 19,
     "metadata": {},
     "output_type": "execute_result"
    }
   ],
   "source": [
    "a.dot(B)"
   ]
  },
  {
   "cell_type": "code",
   "execution_count": 20,
   "metadata": {},
   "outputs": [
    {
     "data": {
      "text/plain": [
       "array([[40, 39, 21]])"
      ]
     },
     "execution_count": 20,
     "metadata": {},
     "output_type": "execute_result"
    }
   ],
   "source": [
    "b.T.dot(B)"
   ]
  },
  {
   "cell_type": "code",
   "execution_count": 27,
   "metadata": {},
   "outputs": [
    {
     "data": {
      "text/plain": [
       "14"
      ]
     },
     "execution_count": 27,
     "metadata": {},
     "output_type": "execute_result"
    }
   ],
   "source": [
    "a.dot(a)"
   ]
  },
  {
   "cell_type": "code",
   "execution_count": 22,
   "metadata": {},
   "outputs": [
    {
     "data": {
      "text/plain": [
       "array([[29]])"
      ]
     },
     "execution_count": 22,
     "metadata": {},
     "output_type": "execute_result"
    }
   ],
   "source": [
    "b.T.dot(b)"
   ]
  },
  {
   "cell_type": "code",
   "execution_count": 25,
   "metadata": {},
   "outputs": [
    {
     "data": {
      "text/plain": [
       "array([[ 4,  8,  6],\n",
       "       [ 8, 16, 12],\n",
       "       [ 6, 12,  9]])"
      ]
     },
     "execution_count": 25,
     "metadata": {},
     "output_type": "execute_result"
    }
   ],
   "source": [
    "b.dot(b.T)"
   ]
  },
  {
   "cell_type": "code",
   "execution_count": 28,
   "metadata": {},
   "outputs": [
    {
     "data": {
      "text/plain": [
       "array([ 6, 11, 12])"
      ]
     },
     "execution_count": 28,
     "metadata": {},
     "output_type": "execute_result"
    }
   ],
   "source": [
    "# Sumatoria por columnas\n",
    "np.sum(A, axis=0)"
   ]
  },
  {
   "cell_type": "code",
   "execution_count": 29,
   "metadata": {},
   "outputs": [
    {
     "data": {
      "text/plain": [
       "array([ 6, 15,  8])"
      ]
     },
     "execution_count": 29,
     "metadata": {},
     "output_type": "execute_result"
    }
   ],
   "source": [
    "# Sumatoria por filas\n",
    "np.sum(A, axis=1)"
   ]
  },
  {
   "cell_type": "code",
   "execution_count": 36,
   "metadata": {},
   "outputs": [
    {
     "data": {
      "text/plain": [
       "array([0., 0., 0., 0., 0.])"
      ]
     },
     "execution_count": 36,
     "metadata": {},
     "output_type": "execute_result"
    }
   ],
   "source": [
    "# Vectores auxiliares...\n",
    "x0 = np.ones(3)\n",
    "x0\n",
    "\n",
    "z0 = np.zeros(5)\n",
    "z0"
   ]
  },
  {
   "cell_type": "code",
   "execution_count": null,
   "metadata": {},
   "outputs": [],
   "source": [
    "from numpy import linalg as LA\n",
    "\n",
    "# Inversa\n",
    "LA.inv(A)"
   ]
  },
  {
   "cell_type": "code",
   "execution_count": null,
   "metadata": {},
   "outputs": [],
   "source": [
    "# Eigenvalores\n",
    "sigma = np.array([[2, 5, 8], [5, 8, 3], [8, 3, 20]])\n",
    "LA.eig(sigma)"
   ]
  },
  {
   "cell_type": "markdown",
   "metadata": {},
   "source": [
    "### 2.3 Aplicación práctica"
   ]
  },
  {
   "cell_type": "markdown",
   "metadata": {},
   "source": [
    "Ahora vamos a realizar una aplicación práctica muy conocida para usar lo aprendido. Estimaremos los parámetros de un modelo de regresión lineal."
   ]
  },
  {
   "cell_type": "markdown",
   "metadata": {},
   "source": [
    "__Descripción del Modelo de Regresión Lineal__\n",
    "\n",
    "El modelo de regresión en general es de la forma:\n",
    "\n",
    "$$\n",
    "Y=\\mathrm{E}[Y|X]+\\varepsilon \\\\\n",
    "$$\n",
    "Donde,\n",
    "\n",
    "* $Y$: Variable respuesta (Variable aleatoria)\n",
    "* $X$: Vector predictor o regresor (Vector de variables aleatorias, valores conocidos o ambos)\n",
    "* $\\varepsilon$: Error (Variable aleatoria)\n",
    "\n",
    "Luego, en un modelo de regresión lineal consideramos que $\\mathrm{E}[Y|X]$ es lineal en sus parámetros, esto es:\n",
    "\n",
    "$$\n",
    "\\mathrm{E}[Y|X]=\\beta_0+\\sum_{j=1}^{p-1}\\beta_jX_j\n",
    "$$\n",
    "\n",
    "Entonces, el modelo de regresión lineal tiene forma:\n",
    "\n",
    "$$\n",
    "Y=\\beta_0+\\sum_{j=1}^{p-1}\\beta_jX_j+\\varepsilon\n",
    "$$\n",
    "\n",
    "Ahora, consideremos una muestra independiente e identicamente distribuida de tamaño $n$, \n",
    "\n",
    "$$\n",
    "Y_i=\\beta_0 +\\beta_1 X_{i1}+...+\\beta_{p-1} X_{i(p-1)}+\\varepsilon_i \\qquad i=1,...,n \\\\\n",
    "$$\n",
    "\n",
    "de forma completa tenemos,\n",
    "\n",
    "$$\n",
    "Y_1=\\beta_0 1+\\beta_1 X_{11}+...+\\beta_{p-1} X_{1(p-1)}+\\varepsilon_1 \\\\\n",
    "Y_2=\\beta_0 1+\\beta_1 X_{21}+...+\\beta_{p-1} X_{2(p-1)}+\\varepsilon_2 \\\\\n",
    "\\vdots\\\\\n",
    "Y_n=\\beta_0 1+\\beta_1 X_{n1}+...+\\beta_{p-1} X_{n(p-1)}+\\varepsilon_n\n",
    "$$\n",
    "\n",
    "Matricialmente,\n",
    "\n",
    "$$\n",
    "\\Large \\mathbf{Y} = \\mathbf{X} \\mathbf{B}+ \\mathcal{E}\n",
    "$$\n",
    "\n",
    "Ahora veamos las condiciones que deben cumplirse cuando se consideran regresores estocásticos o fijos.\n",
    "\n",
    "__Condiciones del modelo para regresores estocásticos__\n",
    "    \n",
    "* $\\mathrm{E}[\\mathcal{E}|\\mathbf{X}]=0$\n",
    "* $\\mathrm{Var}[\\mathcal{E}|\\mathbf{X}]=\\sigma^2 \\mathbf{I}_n$\n",
    "* $Rang(\\mathbf{X})=p$\n",
    "* $\\mathcal{E}|\\mathbf{X} \\sim N_n(0,\\sigma^2 \\mathbf{I}_n)$ (para fines de inferencia)\n",
    "\n",
    "__Condiciones del modelo para regresores fijos__\n",
    "\n",
    "* $\\mathrm{E}[\\mathcal{E}]=0$\n",
    "* $\\mathrm{Var}[\\mathcal{E}]=\\sigma^2\\mathbf{I}_n$\n",
    "* $Rang(\\mathbf{X})=p$\n",
    "* $\\mathcal{E} \\sim N_n(0,\\sigma^2 \\mathbf{I}_n)$ (para fines de inferencia)\n",
    "\n",
    "__Nota:__ Si bien en general los regresores $X_j$ pueden ser estocásticos (variables aleatorias) o fijos (valores conocidos), por conveniencia resulta práctico considerar que todos son fijos. Esta suposición no quita generalidad a los resultados de los siguientes puntos puesto que tomando regresores estocásticos llegamos a los mismos resultados considerando los respectivos supuestos.\n",
    "\n",
    "Dicho esto continuamos el desarrollo considerando el modelo de regresión lineal con regresores fijos."
   ]
  },
  {
   "cell_type": "markdown",
   "metadata": {},
   "source": [
    "__Estimación de Parámetros__\n",
    "\n",
    "Para estimar los parámetros del modelo minimizaremos una función de costo respecto a los errores. Es decir, los estimadores serán los valores que logren minimizar esta función.\n",
    "\n",
    "Consideremos el siguiente ejemplo."
   ]
  },
  {
   "cell_type": "code",
   "execution_count": 39,
   "metadata": {},
   "outputs": [],
   "source": [
    "import matplotlib.pyplot as plt\n",
    "plt.style.use('ggplot')\n",
    "\n",
    "# Tamaño de muestra\n",
    "n=100\n",
    "\n",
    "# Regresores\n",
    "np.random.seed(8888)\n",
    "x1 = np.random.uniform(low=0, high=15, size=(n,))\n",
    "np.random.seed(4258)\n",
    "x2 = np.random.uniform(low=20, high=80, size=(n,))\n",
    "np.random.seed(3456)\n",
    "x3 = np.random.uniform(low=10, high=40, size=(n,))\n",
    "\n",
    "# Error\n",
    "np.random.seed(4321)\n",
    "E = np.random.normal(loc=0.0, scale=10, size=n)\n",
    "\n",
    "# Variable respuesta\n",
    "Y=20.5+3.8*x1+6.5*x2+10*x3+E"
   ]
  },
  {
   "cell_type": "code",
   "execution_count": 40,
   "metadata": {},
   "outputs": [
    {
     "data": {
      "image/png": "[encoded data removed]",
      "text/plain": [
       "<matplotlib.figure.Figure at 0x2bd1e7d05f8>"
      ]
     },
     "metadata": {},
     "output_type": "display_data"
    }
   ],
   "source": [
    "plt.plot(x1,Y,'o',color='blue')\n",
    "plt.ylabel(\"Y\")\n",
    "plt.xlabel(\"x1\")\n",
    "plt.show()"
   ]
  },
  {
   "cell_type": "code",
   "execution_count": 41,
   "metadata": {},
   "outputs": [
    {
     "data": {
      "image/png": "[encoded data removed]",
      "text/plain": [
       "<matplotlib.figure.Figure at 0x2bd1f541898>"
      ]
     },
     "metadata": {},
     "output_type": "display_data"
    }
   ],
   "source": [
    "plt.plot(x2,Y,'o',color='blue')\n",
    "plt.ylabel(\"Y\")\n",
    "plt.xlabel(\"x2\")\n",
    "plt.show()"
   ]
  },
  {
   "cell_type": "code",
   "execution_count": 42,
   "metadata": {},
   "outputs": [
    {
     "data": {
      "image/png": "[encoded data removed]",
      "text/plain": [
       "<matplotlib.figure.Figure at 0x2bd1f5a0c88>"
      ]
     },
     "metadata": {},
     "output_type": "display_data"
    }
   ],
   "source": [
    "plt.plot(x3,Y,'o',color='blue')\n",
    "plt.ylabel(\"Y\")\n",
    "plt.xlabel(\"x3\")\n",
    "plt.show()"
   ]
  },
  {
   "cell_type": "markdown",
   "metadata": {},
   "source": [
    "__Ecuaciones Normales__\n",
    "\n",
    "Aplicando MCO, minimizaremos la suma de cuadrados de los errores, esto es\n",
    "\n",
    "$$\n",
    "\\begin{align*}\n",
    "\\min \\limits_{\\beta_0,...,\\beta_{p-1}} \\varphi &= \\sum_{i=1}^{n}\\varepsilon_i^2\n",
    "&\n",
    "\\qquad \\min\\limits_{\\mathbf{B}} \\varphi &=  \\mathcal{E}'\\mathcal{E}\\\\\n",
    "\\min \\limits_{\\beta_0,...,\\beta_{p-1}} \\varphi &= \\sum_{i=1}^{n}\\Big(Y_i - \\beta_0 - \\sum_{j=1}^{p-1}\\beta_j x_{ij}\\Big)^2\n",
    "&\n",
    "\\qquad \\min \\limits_{\\mathbf{B}} \\varphi &= (\\mathbf{Y} - \\mathbf{X} \\mathbf{B})'(\\mathbf{Y} - \\mathbf{X} \\mathbf{B})\n",
    "\\end{align*}\n",
    "$$\n",
    "\n",
    "Derivando $\\varphi$ respecto a $\\mathbf{B}$, tenemos:\n",
    "\n",
    "$$\n",
    "\\frac{\\partial \\varphi}{\\partial \\mathbf{B}}=-2\\mathbf{X}'\\mathbf{Y}+2\\mathbf{X}'\\mathbf{X}\\mathbf{B}\n",
    "$$\n",
    "\n",
    "igualando a cero, el estimador MCO de $\\mathbf{B}$ es:\n",
    "\n",
    "$$\n",
    "\\hat{\\mathbf{B}}=(\\mathbf{X}'\\mathbf{X})^{-1}\\mathbf{X}'\\mathbf{Y}\n",
    "$$\n",
    "\n",
    "__Nota:__ El anterior resultado se denomina ecuación normal. Nótese que es una ecuación vectorial por lo que en realidad se tienen $p$ ecuaciones.\n",
    "\n",
    "____________________\n",
    "\n",
    "Obtengamos los estimadores de los parámetros de nuestro ejemplo usando esta ecuación."
   ]
  },
  {
   "cell_type": "code",
   "execution_count": 47,
   "metadata": {},
   "outputs": [
    {
     "data": {
      "text/plain": [
       "matrix([[ 1.        , 14.43576479, 20.17587888, 29.29511536],\n",
       "        [ 1.        , 10.41330545, 78.42630742, 23.88903939],\n",
       "        [ 1.        ,  6.63399218, 57.52210116, 11.88085913],\n",
       "        [ 1.        ,  0.36731771, 46.68000529, 36.24900178],\n",
       "        [ 1.        ,  1.0603601 , 47.72888312, 39.32475139],\n",
       "        [ 1.        , 11.91055655, 35.36784292, 34.74661638],\n",
       "        [ 1.        ,  9.07932583, 53.3043109 , 13.40187574],\n",
       "        [ 1.        ,  7.61593699, 29.76110158, 19.26182214],\n",
       "        [ 1.        ,  2.08355976, 35.77387101, 18.25206718],\n",
       "        [ 1.        ,  8.34950192, 38.81968335, 16.43275627],\n",
       "        [ 1.        ,  8.55093538, 63.13302392, 16.69621487],\n",
       "        [ 1.        ,  0.75578614, 21.05590183, 34.39785077],\n",
       "        [ 1.        ,  8.70428797, 76.13973657, 23.77554048],\n",
       "        [ 1.        , 12.60922454, 30.45654086, 23.15787307],\n",
       "        [ 1.        , 14.56139836, 63.45154454, 10.2809807 ],\n",
       "        [ 1.        ,  1.36944337, 75.28700659, 26.14117382],\n",
       "        [ 1.        ,  9.49156376, 64.97296459, 28.23038437],\n",
       "        [ 1.        , 11.07799574, 78.37352376, 12.31073559],\n",
       "        [ 1.        ,  8.01382513, 70.36136409, 37.74809931],\n",
       "        [ 1.        ,  3.97483011, 65.14594357, 33.71864535],\n",
       "        [ 1.        , 10.42700024, 52.68100485, 36.34592254],\n",
       "        [ 1.        , 11.49562047, 60.01852352, 17.15613373],\n",
       "        [ 1.        ,  8.48386263, 64.59368063, 23.81982118],\n",
       "        [ 1.        ,  2.05250076, 67.57084898, 33.43434693],\n",
       "        [ 1.        , 10.39472802, 76.13065748, 38.21165846],\n",
       "        [ 1.        ,  4.47946492, 66.00042557, 38.50663817],\n",
       "        [ 1.        ,  0.10554322, 59.53110068, 37.87012029],\n",
       "        [ 1.        , 12.23156718, 43.39786568, 14.00547253],\n",
       "        [ 1.        ,  6.20816583, 70.35904161, 39.2127515 ],\n",
       "        [ 1.        , 10.56549685, 61.84005943, 30.21522068],\n",
       "        [ 1.        , 12.2637448 , 21.62528624, 10.37981975],\n",
       "        [ 1.        ,  1.21743508, 79.78014519, 21.16905234],\n",
       "        [ 1.        ,  0.57014291, 55.66984375, 16.60138095],\n",
       "        [ 1.        ,  9.0493791 , 65.24641759, 10.52740153],\n",
       "        [ 1.        ,  5.84123974, 70.28232098, 23.49958321],\n",
       "        [ 1.        ,  6.69022474, 27.26890551, 39.00180198],\n",
       "        [ 1.        ,  2.78566639, 56.8880245 , 22.65624887],\n",
       "        [ 1.        , 10.78757647, 50.99006821, 32.67870973],\n",
       "        [ 1.        ,  8.66215073, 58.34668302, 18.21293854],\n",
       "        [ 1.        ,  1.128833  , 39.83839332, 30.19901238],\n",
       "        [ 1.        ,  4.00716611, 70.61182705, 10.0893291 ],\n",
       "        [ 1.        , 12.92817576, 30.34729553, 16.98404948],\n",
       "        [ 1.        , 11.0062823 , 69.09335577, 32.56638886],\n",
       "        [ 1.        ,  2.68079161, 57.75494092, 35.61755952],\n",
       "        [ 1.        ,  3.66742095, 61.55409601, 17.35533683],\n",
       "        [ 1.        ,  5.34010047, 32.63097565, 38.74248941],\n",
       "        [ 1.        , 13.5347707 , 74.00214054, 20.49398826],\n",
       "        [ 1.        ,  5.65107734, 70.91301771, 21.10371872],\n",
       "        [ 1.        , 12.65635358, 48.04024809, 27.8171086 ],\n",
       "        [ 1.        ,  7.96150543, 77.58981725, 20.88176021],\n",
       "        [ 1.        , 12.0003235 , 47.9915725 , 23.54637356],\n",
       "        [ 1.        ,  1.0886423 , 51.61240106, 32.05730789],\n",
       "        [ 1.        ,  5.82568175, 68.92079445, 15.20120626],\n",
       "        [ 1.        ,  5.10571718, 27.15503484, 32.0790159 ],\n",
       "        [ 1.        , 12.68981552, 44.76966791, 13.95887603],\n",
       "        [ 1.        , 14.92950851, 35.61426252, 10.78357124],\n",
       "        [ 1.        ,  0.25037284, 61.60661383, 37.52562105],\n",
       "        [ 1.        ,  2.12487335, 78.23684595, 38.19966054],\n",
       "        [ 1.        ,  7.41904431, 63.89935084, 18.11942429],\n",
       "        [ 1.        ,  7.29501087, 23.1592279 , 21.43949574],\n",
       "        [ 1.        ,  2.62000096, 78.09514738, 26.92225001],\n",
       "        [ 1.        , 13.28211555, 77.03142044, 20.9226411 ],\n",
       "        [ 1.        ,  2.34461315, 50.89765021, 21.89091491],\n",
       "        [ 1.        , 11.90430899, 32.15929338, 29.482035  ],\n",
       "        [ 1.        , 10.50610796, 52.72588308, 16.79516255],\n",
       "        [ 1.        , 10.105504  , 76.15170519, 12.86760204],\n",
       "        [ 1.        , 11.04001266, 37.47854375, 22.45044724],\n",
       "        [ 1.        ,  3.71085517, 34.35049877, 36.75855727],\n",
       "        [ 1.        ,  4.41867321, 70.56956152, 16.3317556 ],\n",
       "        [ 1.        ,  4.01310709, 57.55272606, 34.98944871],\n",
       "        [ 1.        , 11.73578124, 60.60834425, 39.29993569],\n",
       "        [ 1.        ,  6.34271621, 69.87847432, 31.99352618],\n",
       "        [ 1.        ,  3.41362341, 35.9513789 , 31.56775238],\n",
       "        [ 1.        , 14.48281275, 79.20674808, 29.67000558],\n",
       "        [ 1.        ,  7.54917286, 54.99347448, 30.66345639],\n",
       "        [ 1.        ,  0.79023525, 44.10830514, 11.70231633],\n",
       "        [ 1.        ,  7.92361141, 41.12157529, 13.45693185],\n",
       "        [ 1.        ,  8.31977409, 65.45696392, 33.74337663],\n",
       "        [ 1.        ,  3.69035494, 23.52661832, 23.66278567],\n",
       "        [ 1.        , 13.14122698, 55.2463954 , 15.33770044],\n",
       "        [ 1.        , 14.05565304, 62.82278888, 37.13618262],\n",
       "        [ 1.        ,  1.69157675, 46.99402018, 36.92239768],\n",
       "        [ 1.        , 11.20432866, 74.78095245, 23.3224235 ],\n",
       "        [ 1.        ,  3.62583924, 66.50225215, 30.31044213],\n",
       "        [ 1.        ,  2.07148645, 28.63993186, 15.45321161],\n",
       "        [ 1.        , 14.84686308, 42.16377222, 34.53731913],\n",
       "        [ 1.        ,  8.2511899 , 43.00961916, 10.60473684],\n",
       "        [ 1.        ,  1.66692635, 23.12482953, 15.38305773],\n",
       "        [ 1.        ,  9.1952804 , 66.59232764, 10.85219249],\n",
       "        [ 1.        ,  0.49042743, 76.95590111, 33.98566071],\n",
       "        [ 1.        , 13.89647533, 59.1741488 , 31.86346037],\n",
       "        [ 1.        , 10.74399113, 54.19331689, 10.47910055],\n",
       "        [ 1.        ,  5.72480869, 27.12815315, 10.70871494],\n",
       "        [ 1.        ,  9.85294176, 43.42864647, 34.92319394],\n",
       "        [ 1.        ,  4.96532313, 64.78899736, 23.90221282],\n",
       "        [ 1.        , 14.68161513, 25.48030155, 19.18219931],\n",
       "        [ 1.        ,  9.28000226, 40.90876364, 24.69086677],\n",
       "        [ 1.        ,  3.25980344, 32.25106787, 32.8544319 ],\n",
       "        [ 1.        ,  6.79660512, 49.97419095, 29.74264809],\n",
       "        [ 1.        ,  1.87351334, 23.81514163, 30.79016392]])"
      ]
     },
     "execution_count": 47,
     "metadata": {},
     "output_type": "execute_result"
    }
   ],
   "source": [
    "# Definamos nuestra matriz de datos...\n",
    "x0 = np.ones(n)\n",
    "aux = np.column_stack((x0,x1,x2,x3))\n",
    "X = np.matrix(aux)\n",
    "X"
   ]
  },
  {
   "cell_type": "code",
   "execution_count": 48,
   "metadata": {},
   "outputs": [
    {
     "name": "stdout",
     "output_type": "stream",
     "text": [
      "(1, 100)\n",
      "(100, 1)\n"
     ]
    },
    {
     "data": {
      "text/plain": [
       "array([[491.7850573 ],\n",
       "       [818.34389979],\n",
       "       [552.974889  ],\n",
       "       [682.50793257],\n",
       "       [725.36694836],\n",
       "       [637.3955446 ],\n",
       "       [527.98708167],\n",
       "       [457.78810785],\n",
       "       [450.04176616],\n",
       "       [457.55983613],\n",
       "       [633.62217053],\n",
       "       [505.52398886],\n",
       "       [794.25450463],\n",
       "       [483.33416915],\n",
       "       [576.96426363],\n",
       "       [759.94992885],\n",
       "       [759.76175875],\n",
       "       [700.29654478],\n",
       "       [898.58326941],\n",
       "       [783.98805506],\n",
       "       [758.21722549],\n",
       "       [624.57430927],\n",
       "       [716.34989505],\n",
       "       [806.03750831],\n",
       "       [940.25892269],\n",
       "       [862.99135467],\n",
       "       [786.47423478],\n",
       "       [496.82035403],\n",
       "       [880.02186725],\n",
       "       [758.23797752],\n",
       "       [294.96142691],\n",
       "       [765.25366166],\n",
       "       [567.9980268 ],\n",
       "       [581.2884027 ],\n",
       "       [738.17827504],\n",
       "       [598.46536768],\n",
       "       [632.75254347],\n",
       "       [703.47023377],\n",
       "       [601.22229064],\n",
       "       [578.05425281],\n",
       "       [598.4432691 ],\n",
       "       [423.2844298 ],\n",
       "       [827.22177306],\n",
       "       [751.75089182],\n",
       "       [604.52042811],\n",
       "       [627.47203423],\n",
       "       [777.5444234 ],\n",
       "       [715.57599458],\n",
       "       [663.30290367],\n",
       "       [765.63600535],\n",
       "       [604.42223578],\n",
       "       [686.03769151],\n",
       "       [668.33118675],\n",
       "       [550.21325988],\n",
       "       [508.83277628],\n",
       "       [409.14219273],\n",
       "       [784.83382203],\n",
       "       [918.72761402],\n",
       "       [656.59996765],\n",
       "       [400.44612132],\n",
       "       [799.02302075],\n",
       "       [761.55868853],\n",
       "       [593.84142844],\n",
       "       [573.09702466],\n",
       "       [562.37675882],\n",
       "       [693.64170755],\n",
       "       [531.76093363],\n",
       "       [622.64144302],\n",
       "       [663.13325235],\n",
       "       [773.51747675],\n",
       "       [843.42868551],\n",
       "       [807.91387399],\n",
       "       [591.4975861 ],\n",
       "       [859.79077323],\n",
       "       [723.8889503 ],\n",
       "       [434.03646602],\n",
       "       [455.47585237],\n",
       "       [820.23222157],\n",
       "       [440.80542176],\n",
       "       [581.18190126],\n",
       "       [856.33553763],\n",
       "       [697.5955317 ],\n",
       "       [791.54238705],\n",
       "       [781.10863219],\n",
       "       [351.93302444],\n",
       "       [686.05570857],\n",
       "       [436.44154843],\n",
       "       [346.00873705],\n",
       "       [597.69876523],\n",
       "       [854.02969631],\n",
       "       [774.94894936],\n",
       "       [524.44939956],\n",
       "       [320.09884178],\n",
       "       [695.72477546],\n",
       "       [700.90309041],\n",
       "       [424.30721977],\n",
       "       [580.81007528],\n",
       "       [560.20432598],\n",
       "       [646.4176044 ],\n",
       "       [487.69718435]])"
      ]
     },
     "execution_count": 48,
     "metadata": {},
     "output_type": "execute_result"
    }
   ],
   "source": [
    "# Ojo..\n",
    "print(Y.T.shape)\n",
    "print(Y.shape)\n",
    "Y"
   ]
  },
  {
   "cell_type": "code",
   "execution_count": 44,
   "metadata": {},
   "outputs": [
    {
     "name": "stdout",
     "output_type": "stream",
     "text": [
      "(100, 1)\n",
      "(1, 100)\n"
     ]
    }
   ],
   "source": [
    "# Arreglemos esto...\n",
    "Y.shape = (n,1)\n",
    "print(Y.shape)\n",
    "print(Y.T.shape)\n",
    "Y"
   ]
  },
  {
   "cell_type": "code",
   "execution_count": 45,
   "metadata": {},
   "outputs": [
    {
     "name": "stdout",
     "output_type": "stream",
     "text": [
      "[[26.79295998]\n",
      " [ 3.2388939 ]\n",
      " [ 6.57385373]\n",
      " [ 9.73114711]]\n"
     ]
    }
   ],
   "source": [
    "# Ahora si...\n",
    "XtXinv = np.linalg.inv(np.dot(X.T,X))\n",
    "XtY =np.dot(X.T,Y)\n",
    "B_hat = np.dot(XtXinv,XtY)\n",
    "print(B_hat)"
   ]
  },
  {
   "cell_type": "markdown",
   "metadata": {},
   "source": [
    "__Ejercicio__\n",
    "\n",
    "Define una función que permita obtener los estimadores de los parámetros en un modelo de regresión lineal. A la función debe ingresar un vector de respuestas y una matriz de datos, cuya primera columna es un vector de unos. La salida debe ser el vector de estimadores. "
   ]
  },
  {
   "cell_type": "markdown",
   "metadata": {},
   "source": [
    "__Solución__"
   ]
  },
  {
   "cell_type": "code",
   "execution_count": null,
   "metadata": {},
   "outputs": [],
   "source": [
    "# Define tu función...\n",
    "\n",
    "\n"
   ]
  },
  {
   "cell_type": "code",
   "execution_count": 56,
   "metadata": {},
   "outputs": [],
   "source": [
    "# Prueba...\n",
    "\n",
    "# Define la siguiente matriz de datos\n",
    "\n",
    "# Xdata =\n",
    "# 1,  2,  3\n",
    "# 1,  5,  6\n",
    "# 1,  4,  3\n",
    "# 1,  2,  3\n",
    "# 1,  7,  8\n",
    "# 1,  1,  7\n",
    "# 1,  2, 11\n",
    "# 1,  5,  3\n",
    "# 1,  4,  7"
   ]
  },
  {
   "cell_type": "code",
   "execution_count": 54,
   "metadata": {},
   "outputs": [],
   "source": [
    "# Define el siguiente vector de respuestas\n",
    "\n",
    "# Yresp =\n",
    "# 4\n",
    "# 5\n",
    "# 3\n",
    "# 6\n",
    "# 5\n",
    "# 8\n",
    "# 9\n",
    "# 4\n",
    "# 6"
   ]
  },
  {
   "cell_type": "code",
   "execution_count": 53,
   "metadata": {},
   "outputs": [],
   "source": [
    "# Calcula los estimadores usando estos datos\n",
    "\n"
   ]
  },
  {
   "cell_type": "code",
   "execution_count": null,
   "metadata": {},
   "outputs": [],
   "source": [
    "# Resultado...\n",
    "\n",
    "# ¿Obtuviste estos valores?\n",
    "\n",
    "# B_est =\n",
    "#  4.44640071\n",
    "# -0.53376421\n",
    "#  0.53064408\n",
    "\n",
    "# ¡Genial!"
   ]
  }
 ],
 "metadata": {
  "kernelspec": {
   "display_name": "Python 3",
   "language": "python",
   "name": "python3"
  },
  "language_info": {
   "codemirror_mode": {
    "name": "ipython",
    "version": 3
   },
   "file_extension": ".py",
   "mimetype": "text/x-python",
   "name": "python",
   "nbconvert_exporter": "python",
   "pygments_lexer": "ipython3",
   "version": "3.6.4"
  },
  "toc": {
   "base_numbering": 1,
   "nav_menu": {},
   "number_sections": false,
   "sideBar": true,
   "skip_h1_title": true,
   "title_cell": "Table of Contents",
   "title_sidebar": "Contents",
   "toc_cell": false,
   "toc_position": {
    "height": "calc(100% - 180px)",
    "left": "10px",
    "top": "150px",
    "width": "273px"
   },
   "toc_section_display": true,
   "toc_window_display": true
  }
 },
 "nbformat": 4,
 "nbformat_minor": 2
}
